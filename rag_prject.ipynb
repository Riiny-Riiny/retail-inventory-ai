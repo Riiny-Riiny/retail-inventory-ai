{
 "cells": [
  {
   "cell_type": "markdown",
   "id": "fa59e0b9",
   "metadata": {},
   "source": [
    "## Parsing Dates & Loading the Data"
   ]
  },
  {
   "cell_type": "code",
   "execution_count": 1,
   "id": "dc76a137",
   "metadata": {},
   "outputs": [],
   "source": [
    "import pandas as pd\n",
    "import numpy as np\n",
    "import matplotlib.pyplot as plt\n",
    "import seaborn as sns\n",
    "\n",
    "# Optional for later phases\n",
    "# !pip install prophet xgboost sentence-transformers faiss-cpu transformers"
   ]
  },
  {
   "cell_type": "code",
   "execution_count": 4,
   "id": "2fefaefc",
   "metadata": {},
   "outputs": [
    {
     "name": "stdout",
     "output_type": "stream",
     "text": [
      "(307645, 10)\n",
      "YEAR                         int64\n",
      "MONTH                        int64\n",
      "SUPPLIER                    object\n",
      "ITEM CODE                   object\n",
      "ITEM DESCRIPTION            object\n",
      "ITEM TYPE                   object\n",
      "RETAIL SALES               float64\n",
      "RETAIL TRANSFERS           float64\n",
      "WAREHOUSE SALES            float64\n",
      "date                datetime64[ns]\n",
      "dtype: object\n"
     ]
    },
    {
     "data": {
      "text/html": [
       "<div>\n",
       "<style scoped>\n",
       "    .dataframe tbody tr th:only-of-type {\n",
       "        vertical-align: middle;\n",
       "    }\n",
       "\n",
       "    .dataframe tbody tr th {\n",
       "        vertical-align: top;\n",
       "    }\n",
       "\n",
       "    .dataframe thead th {\n",
       "        text-align: right;\n",
       "    }\n",
       "</style>\n",
       "<table border=\"1\" class=\"dataframe\">\n",
       "  <thead>\n",
       "    <tr style=\"text-align: right;\">\n",
       "      <th></th>\n",
       "      <th>YEAR</th>\n",
       "      <th>MONTH</th>\n",
       "      <th>SUPPLIER</th>\n",
       "      <th>ITEM CODE</th>\n",
       "      <th>ITEM DESCRIPTION</th>\n",
       "      <th>ITEM TYPE</th>\n",
       "      <th>RETAIL SALES</th>\n",
       "      <th>RETAIL TRANSFERS</th>\n",
       "      <th>WAREHOUSE SALES</th>\n",
       "      <th>date</th>\n",
       "    </tr>\n",
       "  </thead>\n",
       "  <tbody>\n",
       "    <tr>\n",
       "      <th>0</th>\n",
       "      <td>2020</td>\n",
       "      <td>1</td>\n",
       "      <td>REPUBLIC NATIONAL DISTRIBUTING CO</td>\n",
       "      <td>100009</td>\n",
       "      <td>BOOTLEG RED - 750ML</td>\n",
       "      <td>WINE</td>\n",
       "      <td>0.00</td>\n",
       "      <td>0.0</td>\n",
       "      <td>2.0</td>\n",
       "      <td>2020-01-01</td>\n",
       "    </tr>\n",
       "    <tr>\n",
       "      <th>1</th>\n",
       "      <td>2020</td>\n",
       "      <td>1</td>\n",
       "      <td>PWSWN INC</td>\n",
       "      <td>100024</td>\n",
       "      <td>MOMENT DE PLAISIR - 750ML</td>\n",
       "      <td>WINE</td>\n",
       "      <td>0.00</td>\n",
       "      <td>1.0</td>\n",
       "      <td>4.0</td>\n",
       "      <td>2020-01-01</td>\n",
       "    </tr>\n",
       "    <tr>\n",
       "      <th>2</th>\n",
       "      <td>2020</td>\n",
       "      <td>1</td>\n",
       "      <td>RELIABLE CHURCHILL LLLP</td>\n",
       "      <td>1001</td>\n",
       "      <td>S SMITH ORGANIC PEAR CIDER - 18.7OZ</td>\n",
       "      <td>BEER</td>\n",
       "      <td>0.00</td>\n",
       "      <td>0.0</td>\n",
       "      <td>1.0</td>\n",
       "      <td>2020-01-01</td>\n",
       "    </tr>\n",
       "    <tr>\n",
       "      <th>3</th>\n",
       "      <td>2020</td>\n",
       "      <td>1</td>\n",
       "      <td>LANTERNA DISTRIBUTORS INC</td>\n",
       "      <td>100145</td>\n",
       "      <td>SCHLINK HAUS KABINETT - 750ML</td>\n",
       "      <td>WINE</td>\n",
       "      <td>0.00</td>\n",
       "      <td>0.0</td>\n",
       "      <td>1.0</td>\n",
       "      <td>2020-01-01</td>\n",
       "    </tr>\n",
       "    <tr>\n",
       "      <th>4</th>\n",
       "      <td>2020</td>\n",
       "      <td>1</td>\n",
       "      <td>DIONYSOS IMPORTS INC</td>\n",
       "      <td>100293</td>\n",
       "      <td>SANTORINI GAVALA WHITE - 750ML</td>\n",
       "      <td>WINE</td>\n",
       "      <td>0.82</td>\n",
       "      <td>0.0</td>\n",
       "      <td>0.0</td>\n",
       "      <td>2020-01-01</td>\n",
       "    </tr>\n",
       "  </tbody>\n",
       "</table>\n",
       "</div>"
      ],
      "text/plain": [
       "   YEAR  MONTH                           SUPPLIER ITEM CODE  \\\n",
       "0  2020      1  REPUBLIC NATIONAL DISTRIBUTING CO    100009   \n",
       "1  2020      1                          PWSWN INC    100024   \n",
       "2  2020      1            RELIABLE CHURCHILL LLLP      1001   \n",
       "3  2020      1          LANTERNA DISTRIBUTORS INC    100145   \n",
       "4  2020      1               DIONYSOS IMPORTS INC    100293   \n",
       "\n",
       "                      ITEM DESCRIPTION ITEM TYPE  RETAIL SALES  \\\n",
       "0                  BOOTLEG RED - 750ML      WINE          0.00   \n",
       "1            MOMENT DE PLAISIR - 750ML      WINE          0.00   \n",
       "2  S SMITH ORGANIC PEAR CIDER - 18.7OZ      BEER          0.00   \n",
       "3        SCHLINK HAUS KABINETT - 750ML      WINE          0.00   \n",
       "4       SANTORINI GAVALA WHITE - 750ML      WINE          0.82   \n",
       "\n",
       "   RETAIL TRANSFERS  WAREHOUSE SALES       date  \n",
       "0               0.0              2.0 2020-01-01  \n",
       "1               1.0              4.0 2020-01-01  \n",
       "2               0.0              1.0 2020-01-01  \n",
       "3               0.0              1.0 2020-01-01  \n",
       "4               0.0              0.0 2020-01-01  "
      ]
     },
     "execution_count": 4,
     "metadata": {},
     "output_type": "execute_result"
    }
   ],
   "source": [
    "df = pd.read_csv(\"Warehouse_and_Retail_Sales.csv\")\n",
    "\n",
    "#creating a true data column\n",
    "df[\"date\"] = pd.to_datetime(df[\"YEAR\"].astype(str) + \"-\" +\n",
    "                            df[\"MONTH\"].astype(str).str.zfill(2) + \"-01\")\n",
    "\n",
    "#checking the peek\n",
    "print(df.shape)\n",
    "print(df.dtypes)\n",
    "df.head()"
   ]
  },
  {
   "cell_type": "markdown",
   "id": "5d9f0df3",
   "metadata": {},
   "source": [
    "## Renaming & Selecting Relevant Fields"
   ]
  },
  {
   "cell_type": "code",
   "execution_count": 5,
   "id": "7bf05347",
   "metadata": {},
   "outputs": [],
   "source": [
    "df = df.rename(columns={\n",
    "    \"RETAIL SALES\": \"retail_sales\",\n",
    "    \"WAREHOUSE SALES\": \"wh_sales\",\n",
    "    \"RETAIL TRANSFERS\": \"retail_transfers\",\n",
    "    \"ITEM CODE\": \"sku\",\n",
    "    \"ITEM DESCRIPTION\": \"description\",\n",
    "    \"ITEM TYPE\": \"item_type\",\n",
    "    \"SUPPLIER\": \"supplier\"\n",
    "})\n",
    "\n",
    "#selcting the columns I need for phase 1\n",
    "df = df[[\"date\", \"supplier\", \"sku\", \"description\", \"item_type\", \n",
    "         \"retail_sales\", \"wh_sales\", \"retail_transfers\"]]"
   ]
  },
  {
   "cell_type": "markdown",
   "id": "31cb32b0",
   "metadata": {},
   "source": [
    "## Defining the total sales & Basic Cleaning"
   ]
  },
  {
   "cell_type": "code",
   "execution_count": 10,
   "id": "dd8655c2",
   "metadata": {},
   "outputs": [
    {
     "name": "stdout",
     "output_type": "stream",
     "text": [
      "date                  0\n",
      "supplier            167\n",
      "sku                   0\n",
      "description           0\n",
      "item_type             1\n",
      "retail_sales          3\n",
      "wh_sales              0\n",
      "retail_transfers      0\n",
      "total_sales           3\n",
      "dtype: int64\n"
     ]
    }
   ],
   "source": [
    "#total sales as sum of retail + warehouse\n",
    "df[\"total_sales\"] = df[\"retail_sales\" ] + df[\"wh_sales\"]\n",
    "\n",
    "#checking for missing values\n",
    "print(df.isna().sum())\n",
    "\n",
    "#filling if needed or dropping\n",
    "df[\"total_sales\"].fillna(0, inplace=True)"
   ]
  },
  {
   "cell_type": "markdown",
   "id": "ae285d76",
   "metadata": {},
   "source": [
    "## Ensuring continuous time series per SKU"
   ]
  },
  {
   "cell_type": "code",
   "execution_count": 14,
   "id": "b5c5c5b9",
   "metadata": {},
   "outputs": [
    {
     "data": {
      "text/html": [
       "<div>\n",
       "<style scoped>\n",
       "    .dataframe tbody tr th:only-of-type {\n",
       "        vertical-align: middle;\n",
       "    }\n",
       "\n",
       "    .dataframe tbody tr th {\n",
       "        vertical-align: top;\n",
       "    }\n",
       "\n",
       "    .dataframe thead th {\n",
       "        text-align: right;\n",
       "    }\n",
       "</style>\n",
       "<table border=\"1\" class=\"dataframe\">\n",
       "  <thead>\n",
       "    <tr style=\"text-align: right;\">\n",
       "      <th></th>\n",
       "      <th>date</th>\n",
       "      <th>supplier</th>\n",
       "      <th>sku</th>\n",
       "      <th>description</th>\n",
       "      <th>item_type</th>\n",
       "      <th>retail_sales</th>\n",
       "      <th>wh_sales</th>\n",
       "      <th>retail_transfers</th>\n",
       "      <th>total_sales</th>\n",
       "      <th>supplier_orig</th>\n",
       "      <th>description_orig</th>\n",
       "      <th>item_type_orig</th>\n",
       "      <th>retail_sales_orig</th>\n",
       "      <th>wh_sales_orig</th>\n",
       "      <th>retail_transfers_orig</th>\n",
       "      <th>total_sales_orig</th>\n",
       "    </tr>\n",
       "  </thead>\n",
       "  <tbody>\n",
       "    <tr>\n",
       "      <th>0</th>\n",
       "      <td>2017-07-01</td>\n",
       "      <td>RELIABLE CHURCHILL LLLP</td>\n",
       "      <td>100002</td>\n",
       "      <td>PATRON TEQUILA SILVER LTD - 1L</td>\n",
       "      <td>LIQUOR</td>\n",
       "      <td>0.17</td>\n",
       "      <td>0.0</td>\n",
       "      <td>0.0</td>\n",
       "      <td>0.17</td>\n",
       "      <td>RELIABLE CHURCHILL LLLP</td>\n",
       "      <td>PATRON TEQUILA SILVER LTD - 1L</td>\n",
       "      <td>LIQUOR</td>\n",
       "      <td>0.17</td>\n",
       "      <td>0.0</td>\n",
       "      <td>0.0</td>\n",
       "      <td>0.17</td>\n",
       "    </tr>\n",
       "    <tr>\n",
       "      <th>1</th>\n",
       "      <td>2019-04-01</td>\n",
       "      <td>CONSTANTINE WINES INC</td>\n",
       "      <td>100007</td>\n",
       "      <td>LA CETTO CAB SAUV - 750ML</td>\n",
       "      <td>WINE</td>\n",
       "      <td>0.00</td>\n",
       "      <td>1.0</td>\n",
       "      <td>0.0</td>\n",
       "      <td>1.00</td>\n",
       "      <td>CONSTANTINE WINES INC</td>\n",
       "      <td>LA CETTO CAB SAUV - 750ML</td>\n",
       "      <td>WINE</td>\n",
       "      <td>0.00</td>\n",
       "      <td>1.0</td>\n",
       "      <td>0.0</td>\n",
       "      <td>1.00</td>\n",
       "    </tr>\n",
       "    <tr>\n",
       "      <th>2</th>\n",
       "      <td>2019-05-01</td>\n",
       "      <td>CONSTANTINE WINES INC</td>\n",
       "      <td>100007</td>\n",
       "      <td>LA CETTO CAB SAUV - 750ML</td>\n",
       "      <td>WINE</td>\n",
       "      <td>0.00</td>\n",
       "      <td>1.0</td>\n",
       "      <td>0.0</td>\n",
       "      <td>1.00</td>\n",
       "      <td>CONSTANTINE WINES INC</td>\n",
       "      <td>LA CETTO CAB SAUV - 750ML</td>\n",
       "      <td>WINE</td>\n",
       "      <td>0.00</td>\n",
       "      <td>1.0</td>\n",
       "      <td>0.0</td>\n",
       "      <td>1.00</td>\n",
       "    </tr>\n",
       "    <tr>\n",
       "      <th>3</th>\n",
       "      <td>2019-06-01</td>\n",
       "      <td>NaN</td>\n",
       "      <td>100007</td>\n",
       "      <td>NaN</td>\n",
       "      <td>NaN</td>\n",
       "      <td>0.00</td>\n",
       "      <td>0.0</td>\n",
       "      <td>0.0</td>\n",
       "      <td>0.00</td>\n",
       "      <td>NaN</td>\n",
       "      <td>NaN</td>\n",
       "      <td>NaN</td>\n",
       "      <td>NaN</td>\n",
       "      <td>NaN</td>\n",
       "      <td>NaN</td>\n",
       "      <td>NaN</td>\n",
       "    </tr>\n",
       "    <tr>\n",
       "      <th>4</th>\n",
       "      <td>2019-07-01</td>\n",
       "      <td>NaN</td>\n",
       "      <td>100007</td>\n",
       "      <td>NaN</td>\n",
       "      <td>NaN</td>\n",
       "      <td>0.00</td>\n",
       "      <td>0.0</td>\n",
       "      <td>0.0</td>\n",
       "      <td>0.00</td>\n",
       "      <td>NaN</td>\n",
       "      <td>NaN</td>\n",
       "      <td>NaN</td>\n",
       "      <td>NaN</td>\n",
       "      <td>NaN</td>\n",
       "      <td>NaN</td>\n",
       "      <td>NaN</td>\n",
       "    </tr>\n",
       "  </tbody>\n",
       "</table>\n",
       "</div>"
      ],
      "text/plain": [
       "        date                 supplier     sku                     description  \\\n",
       "0 2017-07-01  RELIABLE CHURCHILL LLLP  100002  PATRON TEQUILA SILVER LTD - 1L   \n",
       "1 2019-04-01    CONSTANTINE WINES INC  100007       LA CETTO CAB SAUV - 750ML   \n",
       "2 2019-05-01    CONSTANTINE WINES INC  100007       LA CETTO CAB SAUV - 750ML   \n",
       "3 2019-06-01                      NaN  100007                             NaN   \n",
       "4 2019-07-01                      NaN  100007                             NaN   \n",
       "\n",
       "  item_type  retail_sales  wh_sales  retail_transfers  total_sales  \\\n",
       "0    LIQUOR          0.17       0.0               0.0         0.17   \n",
       "1      WINE          0.00       1.0               0.0         1.00   \n",
       "2      WINE          0.00       1.0               0.0         1.00   \n",
       "3       NaN          0.00       0.0               0.0         0.00   \n",
       "4       NaN          0.00       0.0               0.0         0.00   \n",
       "\n",
       "             supplier_orig                description_orig item_type_orig  \\\n",
       "0  RELIABLE CHURCHILL LLLP  PATRON TEQUILA SILVER LTD - 1L         LIQUOR   \n",
       "1    CONSTANTINE WINES INC       LA CETTO CAB SAUV - 750ML           WINE   \n",
       "2    CONSTANTINE WINES INC       LA CETTO CAB SAUV - 750ML           WINE   \n",
       "3                      NaN                             NaN            NaN   \n",
       "4                      NaN                             NaN            NaN   \n",
       "\n",
       "   retail_sales_orig  wh_sales_orig  retail_transfers_orig  total_sales_orig  \n",
       "0               0.17            0.0                    0.0              0.17  \n",
       "1               0.00            1.0                    0.0              1.00  \n",
       "2               0.00            1.0                    0.0              1.00  \n",
       "3                NaN            NaN                    NaN               NaN  \n",
       "4                NaN            NaN                    NaN               NaN  "
      ]
     },
     "execution_count": 14,
     "metadata": {},
     "output_type": "execute_result"
    }
   ],
   "source": [
    "#since its monthly data, I'll reindex per SKU on a month frequency\n",
    "\n",
    "def reindex_monthly(sku_df):\n",
    "    idx = pd.date_range(\n",
    "        start=sku_df[\"date\"].min(),\n",
    "        end=sku_df[\"date\"].max(),\n",
    "        freq=\"MS\"      # Month Start frequency\n",
    "    )\n",
    "    return (\n",
    "        sku_df\n",
    "        .set_index(\"date\")\n",
    "        .reindex(idx)\n",
    "        .assign(sku=sku_df[\"sku\"].iloc[0])\n",
    "        .rename_axis(\"date\")\n",
    "        .reset_index()\n",
    "    )\n",
    "\n",
    "# 1) reindex each SKU to have a full monthly timeline\n",
    "df_reindexed = (\n",
    "    df\n",
    "    .groupby(\"sku\", group_keys=False)\n",
    "    .apply(reindex_monthly)\n",
    ")\n",
    "\n",
    "# 2) merge back the original retail/wh_sales/etc. from df (which still has 'date')\n",
    "df_full = (\n",
    "    df_reindexed\n",
    "    .merge(\n",
    "        df, \n",
    "        on=[\"sku\", \"date\"],    # both dfs still have these columns\n",
    "        how=\"left\",\n",
    "        suffixes=(\"\", \"_orig\")\n",
    "    )\n",
    ")\n",
    "\n",
    "# 3) if you see columns like retail_sales_orig, wh_sales_orig, drop the empty versions:\n",
    "df_full = df_full.drop(\n",
    "    columns=[c for c in df_full.columns if c.endswith(\"_orig\") and df_full[c].isna().all()]\n",
    ")\n",
    "\n",
    "# 4) finally fill any remaining NaNs in your sales columns\n",
    "for col in [\"retail_sales\", \"wh_sales\", \"retail_transfers\", \"total_sales\"]:\n",
    "    df_full[col] = df_full[col].fillna(0)\n",
    "\n",
    "df_full.head()"
   ]
  },
  {
   "cell_type": "markdown",
   "id": "dda96346",
   "metadata": {},
   "source": [
    "## Feature engineering"
   ]
  },
  {
   "cell_type": "code",
   "execution_count": 15,
   "id": "dae3c8c4",
   "metadata": {},
   "outputs": [],
   "source": [
    "df_full[\"year\"] = df_full[\"date\"].dt.year\n",
    "df_full[\"month\"] = df_full[\"date\"].dt.month\n",
    "df_full[\"month_name\"] = df_full[\"date\"].dt.strftime(\"%b\")"
   ]
  },
  {
   "cell_type": "markdown",
   "id": "3df796f8",
   "metadata": {},
   "source": [
    "## Computing APIs"
   ]
  },
  {
   "cell_type": "code",
   "execution_count": 16,
   "id": "97bb2d3c",
   "metadata": {},
   "outputs": [],
   "source": [
    "#Turnover = (sum of total_sales)/(avg warehouse stock)\n",
    "sales_sum = df_full.groupby(\"sku\")[\"total_sales\"].sum()\n",
    "turnover = (sales_sum/ df_full.groupby(\"sku\")[\"total_sales\"].mean()).rename(\"turnover_rate\")"
   ]
  },
  {
   "cell_type": "markdown",
   "id": "84ebe4f0",
   "metadata": {},
   "source": [
    "## Days-On-Hand Approximation"
   ]
  },
  {
   "cell_type": "code",
   "execution_count": 17,
   "id": "3d633ec8",
   "metadata": {},
   "outputs": [],
   "source": [
    "avg_monthly_sales = df_full.groupby(\"sku\")[\"total_sales\"].mean()\n",
    "# Suppose month’s stock = last month’s total_sales as proxy\n",
    "proxy_stock = df_full.groupby(\"sku\").last()[\"total_sales\"]\n",
    "days_on_hand = (proxy_stock / (avg_monthly_sales / 30)).rename(\"days_on_hand\")"
   ]
  },
  {
   "cell_type": "markdown",
   "id": "52e23f4f",
   "metadata": {},
   "source": [
    "## ABC classification"
   ]
  },
  {
   "cell_type": "code",
   "execution_count": 23,
   "id": "b5008760",
   "metadata": {},
   "outputs": [],
   "source": [
    "annual_sales = df_full.groupby(\"sku\")[\"total_sales\"].sum().sort_values(ascending=False)\n",
    "cum_pct = annual_sales.cumsum() / annual_sales.sum()\n",
    "\n",
    "def abc(x):\n",
    "    if x <= 0.70: return \"A\"\n",
    "    elif x <= 0.90: return \"B\"\n",
    "    else: return \"C\"\n",
    "    \n",
    "abc_class = cum_pct.map(abc).rename(\"abc_class\")"
   ]
  },
  {
   "cell_type": "markdown",
   "id": "710c9d54",
   "metadata": {},
   "source": [
    "## Combining the KPIs"
   ]
  },
  {
   "cell_type": "code",
   "execution_count": 24,
   "id": "e603bb6c",
   "metadata": {},
   "outputs": [
    {
     "data": {
      "text/html": [
       "<div>\n",
       "<style scoped>\n",
       "    .dataframe tbody tr th:only-of-type {\n",
       "        vertical-align: middle;\n",
       "    }\n",
       "\n",
       "    .dataframe tbody tr th {\n",
       "        vertical-align: top;\n",
       "    }\n",
       "\n",
       "    .dataframe thead th {\n",
       "        text-align: right;\n",
       "    }\n",
       "</style>\n",
       "<table border=\"1\" class=\"dataframe\">\n",
       "  <thead>\n",
       "    <tr style=\"text-align: right;\">\n",
       "      <th></th>\n",
       "      <th>sku</th>\n",
       "      <th>turnover_rate</th>\n",
       "      <th>days_on_hand</th>\n",
       "      <th>abc_class</th>\n",
       "    </tr>\n",
       "  </thead>\n",
       "  <tbody>\n",
       "    <tr>\n",
       "      <th>0</th>\n",
       "      <td>100002</td>\n",
       "      <td>1.0</td>\n",
       "      <td>30.000000</td>\n",
       "      <td>C</td>\n",
       "    </tr>\n",
       "    <tr>\n",
       "      <th>1</th>\n",
       "      <td>100007</td>\n",
       "      <td>8.0</td>\n",
       "      <td>60.000000</td>\n",
       "      <td>C</td>\n",
       "    </tr>\n",
       "    <tr>\n",
       "      <th>2</th>\n",
       "      <td>100008</td>\n",
       "      <td>5.0</td>\n",
       "      <td>50.000000</td>\n",
       "      <td>C</td>\n",
       "    </tr>\n",
       "    <tr>\n",
       "      <th>3</th>\n",
       "      <td>100009</td>\n",
       "      <td>35.0</td>\n",
       "      <td>4.259635</td>\n",
       "      <td>C</td>\n",
       "    </tr>\n",
       "    <tr>\n",
       "      <th>4</th>\n",
       "      <td>100011</td>\n",
       "      <td>24.0</td>\n",
       "      <td>240.000000</td>\n",
       "      <td>C</td>\n",
       "    </tr>\n",
       "  </tbody>\n",
       "</table>\n",
       "</div>"
      ],
      "text/plain": [
       "      sku  turnover_rate  days_on_hand abc_class\n",
       "0  100002            1.0     30.000000         C\n",
       "1  100007            8.0     60.000000         C\n",
       "2  100008            5.0     50.000000         C\n",
       "3  100009           35.0      4.259635         C\n",
       "4  100011           24.0    240.000000         C"
      ]
     },
     "execution_count": 24,
     "metadata": {},
     "output_type": "execute_result"
    }
   ],
   "source": [
    "kpis = pd.concat([turnover, days_on_hand, abc_class], axis=1).reset_index()\n",
    "kpis.head()"
   ]
  },
  {
   "cell_type": "markdown",
   "id": "bab50ea4",
   "metadata": {},
   "source": [
    "## Visualizations"
   ]
  },
  {
   "cell_type": "code",
   "execution_count": 25,
   "id": "95a4b0ef",
   "metadata": {},
   "outputs": [
    {
     "data": {
      "image/png": "[encoded data removed]",
      "text/plain": [
       "<Figure size 432x288 with 1 Axes>"
      ]
     },
     "metadata": {
      "needs_background": "light"
     },
     "output_type": "display_data"
    }
   ],
   "source": [
    "#turnover distributions\n",
    "sns.histplot(kpis[\"turnover_rate\"], bins=20)\n",
    "plt.title(\"Turnover Rate Distribution\")\n",
    "plt.show()"
   ]
  },
  {
   "cell_type": "code",
   "execution_count": 26,
   "id": "f79d46b7",
   "metadata": {},
   "outputs": [
    {
     "data": {
      "image/png": "[encoded data removed]",
      "text/plain": [
       "<Figure size 432x288 with 1 Axes>"
      ]
     },
     "metadata": {
      "needs_background": "light"
     },
     "output_type": "display_data"
    }
   ],
   "source": [
    "#days_on_hand vs Turnover\n",
    "sns.scatterplot(data=kpis,\n",
    "               x=\"days_on_hand\",\n",
    "               y=\"turnover_rate\",\n",
    "               hue=\"abc_class\")\n",
    "plt.title(\"Days-on-Hand Vs Turnover by ABC Class\")\n",
    "plt.show()"
   ]
  },
  {
   "cell_type": "code",
   "execution_count": 27,
   "id": "bdecd243",
   "metadata": {},
   "outputs": [
    {
     "ename": "SyntaxError",
     "evalue": "unexpected EOF while parsing (<ipython-input-27-c3539538f4bd>, line 25)",
     "output_type": "error",
     "traceback": [
      "\u001b[0;36m  File \u001b[0;32m\"<ipython-input-27-c3539538f4bd>\"\u001b[0;36m, line \u001b[0;32m25\u001b[0m\n\u001b[0;31m    \u001b[0m\n\u001b[0m    ^\u001b[0m\n\u001b[0;31mSyntaxError\u001b[0m\u001b[0;31m:\u001b[0m unexpected EOF while parsing\n"
     ]
    }
   ],
   "source": []
  },
  {
   "cell_type": "code",
   "execution_count": null,
   "id": "ce791d05",
   "metadata": {},
   "outputs": [],
   "source": []
  }
 ],
 "metadata": {
  "kernelspec": {
   "display_name": "Python 3",
   "language": "python",
   "name": "python3"
  },
  "language_info": {
   "codemirror_mode": {
    "name": "ipython",
    "version": 3
   },
   "file_extension": ".py",
   "mimetype": "text/x-python",
   "name": "python",
   "nbconvert_exporter": "python",
   "pygments_lexer": "ipython3",
   "version": "3.8.0"
  }
 },
 "nbformat": 4,
 "nbformat_minor": 5
}
