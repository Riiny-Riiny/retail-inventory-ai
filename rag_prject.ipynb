{
 "cells": [
  {
   "cell_type": "markdown",
   "id": "c214dfd7",
   "metadata": {},
   "source": [
    "## Parsing Dates & Loading the Data"
   ]
  },
  {
   "cell_type": "code",
   "execution_count": 2,
   "id": "ea555150",
   "metadata": {},
   "outputs": [],
   "source": [
    "import pandas as pd\n",
    "import numpy as np\n",
    "import matplotlib.pyplot as plt\n",
    "import seaborn as sns\n",
    "\n",
    "# Optional for later phases\n",
    "# !pip install prophet xgboost sentence-transformers faiss-cpu transformers"
   ]
  },
  {
   "cell_type": "code",
   "execution_count": 3,
   "id": "a4e0a06b",
   "metadata": {},
   "outputs": [
    {
     "name": "stdout",
     "output_type": "stream",
     "text": [
      "(307645, 10)\n",
      "YEAR                         int64\n",
      "MONTH                        int64\n",
      "SUPPLIER                    object\n",
      "ITEM CODE                   object\n",
      "ITEM DESCRIPTION            object\n",
      "ITEM TYPE                   object\n",
      "RETAIL SALES               float64\n",
      "RETAIL TRANSFERS           float64\n",
      "WAREHOUSE SALES            float64\n",
      "date                datetime64[ns]\n",
      "dtype: object\n"
     ]
    },
    {
     "data": {
      "text/html": [
       "<div>\n",
       "<style scoped>\n",
       "    .dataframe tbody tr th:only-of-type {\n",
       "        vertical-align: middle;\n",
       "    }\n",
       "\n",
       "    .dataframe tbody tr th {\n",
       "        vertical-align: top;\n",
       "    }\n",
       "\n",
       "    .dataframe thead th {\n",
       "        text-align: right;\n",
       "    }\n",
       "</style>\n",
       "<table border=\"1\" class=\"dataframe\">\n",
       "  <thead>\n",
       "    <tr style=\"text-align: right;\">\n",
       "      <th></th>\n",
       "      <th>YEAR</th>\n",
       "      <th>MONTH</th>\n",
       "      <th>SUPPLIER</th>\n",
       "      <th>ITEM CODE</th>\n",
       "      <th>ITEM DESCRIPTION</th>\n",
       "      <th>ITEM TYPE</th>\n",
       "      <th>RETAIL SALES</th>\n",
       "      <th>RETAIL TRANSFERS</th>\n",
       "      <th>WAREHOUSE SALES</th>\n",
       "      <th>date</th>\n",
       "    </tr>\n",
       "  </thead>\n",
       "  <tbody>\n",
       "    <tr>\n",
       "      <th>0</th>\n",
       "      <td>2020</td>\n",
       "      <td>1</td>\n",
       "      <td>REPUBLIC NATIONAL DISTRIBUTING CO</td>\n",
       "      <td>100009</td>\n",
       "      <td>BOOTLEG RED - 750ML</td>\n",
       "      <td>WINE</td>\n",
       "      <td>0.00</td>\n",
       "      <td>0.0</td>\n",
       "      <td>2.0</td>\n",
       "      <td>2020-01-01</td>\n",
       "    </tr>\n",
       "    <tr>\n",
       "      <th>1</th>\n",
       "      <td>2020</td>\n",
       "      <td>1</td>\n",
       "      <td>PWSWN INC</td>\n",
       "      <td>100024</td>\n",
       "      <td>MOMENT DE PLAISIR - 750ML</td>\n",
       "      <td>WINE</td>\n",
       "      <td>0.00</td>\n",
       "      <td>1.0</td>\n",
       "      <td>4.0</td>\n",
       "      <td>2020-01-01</td>\n",
       "    </tr>\n",
       "    <tr>\n",
       "      <th>2</th>\n",
       "      <td>2020</td>\n",
       "      <td>1</td>\n",
       "      <td>RELIABLE CHURCHILL LLLP</td>\n",
       "      <td>1001</td>\n",
       "      <td>S SMITH ORGANIC PEAR CIDER - 18.7OZ</td>\n",
       "      <td>BEER</td>\n",
       "      <td>0.00</td>\n",
       "      <td>0.0</td>\n",
       "      <td>1.0</td>\n",
       "      <td>2020-01-01</td>\n",
       "    </tr>\n",
       "    <tr>\n",
       "      <th>3</th>\n",
       "      <td>2020</td>\n",
       "      <td>1</td>\n",
       "      <td>LANTERNA DISTRIBUTORS INC</td>\n",
       "      <td>100145</td>\n",
       "      <td>SCHLINK HAUS KABINETT - 750ML</td>\n",
       "      <td>WINE</td>\n",
       "      <td>0.00</td>\n",
       "      <td>0.0</td>\n",
       "      <td>1.0</td>\n",
       "      <td>2020-01-01</td>\n",
       "    </tr>\n",
       "    <tr>\n",
       "      <th>4</th>\n",
       "      <td>2020</td>\n",
       "      <td>1</td>\n",
       "      <td>DIONYSOS IMPORTS INC</td>\n",
       "      <td>100293</td>\n",
       "      <td>SANTORINI GAVALA WHITE - 750ML</td>\n",
       "      <td>WINE</td>\n",
       "      <td>0.82</td>\n",
       "      <td>0.0</td>\n",
       "      <td>0.0</td>\n",
       "      <td>2020-01-01</td>\n",
       "    </tr>\n",
       "  </tbody>\n",
       "</table>\n",
       "</div>"
      ],
      "text/plain": [
       "   YEAR  MONTH                           SUPPLIER ITEM CODE  \\\n",
       "0  2020      1  REPUBLIC NATIONAL DISTRIBUTING CO    100009   \n",
       "1  2020      1                          PWSWN INC    100024   \n",
       "2  2020      1            RELIABLE CHURCHILL LLLP      1001   \n",
       "3  2020      1          LANTERNA DISTRIBUTORS INC    100145   \n",
       "4  2020      1               DIONYSOS IMPORTS INC    100293   \n",
       "\n",
       "                      ITEM DESCRIPTION ITEM TYPE  RETAIL SALES  \\\n",
       "0                  BOOTLEG RED - 750ML      WINE          0.00   \n",
       "1            MOMENT DE PLAISIR - 750ML      WINE          0.00   \n",
       "2  S SMITH ORGANIC PEAR CIDER - 18.7OZ      BEER          0.00   \n",
       "3        SCHLINK HAUS KABINETT - 750ML      WINE          0.00   \n",
       "4       SANTORINI GAVALA WHITE - 750ML      WINE          0.82   \n",
       "\n",
       "   RETAIL TRANSFERS  WAREHOUSE SALES       date  \n",
       "0               0.0              2.0 2020-01-01  \n",
       "1               1.0              4.0 2020-01-01  \n",
       "2               0.0              1.0 2020-01-01  \n",
       "3               0.0              1.0 2020-01-01  \n",
       "4               0.0              0.0 2020-01-01  "
      ]
     },
     "execution_count": 3,
     "metadata": {},
     "output_type": "execute_result"
    }
   ],
   "source": [
    "df = pd.read_csv(\"Warehouse_and_Retail_Sales.csv\")\n",
    "\n",
    "#creating a true data column\n",
    "df[\"date\"] = pd.to_datetime(df[\"YEAR\"].astype(str) + \"-\" +\n",
    "                            df[\"MONTH\"].astype(str).str.zfill(2) + \"-01\")\n",
    "\n",
    "#checking the peek\n",
    "print(df.shape)\n",
    "print(df.dtypes)\n",
    "df.head()"
   ]
  },
  {
   "cell_type": "markdown",
   "id": "85f9e631",
   "metadata": {},
   "source": [
    "## Renaming & Selecting Relevant Fields"
   ]
  },
  {
   "cell_type": "code",
   "execution_count": 6,
   "id": "d0562030",
   "metadata": {},
   "outputs": [],
   "source": [
    "df = df.rename(columns={\n",
    "    \"RETAIL SALES\": \"retail_sales\",\n",
    "    \"WAREHOUSE SALES\": \"wh_sales\",\n",
    "    \"RETAIL TRANSFERS\": \"retail_transfers\",\n",
    "    \"ITEM CODE\": \"sku\",\n",
    "    \"ITEM DESCRIPTION\": \"description\",\n",
    "    \"ITEM TYPE\": \"item_type\",\n",
    "    \"SUPPLIER\": \"supplier\"\n",
    "})\n",
    "\n",
    "#selcting the columns I need for phase 1\n",
    "df = df[[\"date\", \"supplier\", \"sku\", \"description\", \"item_type\", \n",
    "         \"retail_sales\", \"wh_sales\", \"retail_transfers\"]]"
   ]
  },
  {
   "cell_type": "markdown",
   "id": "9473705b",
   "metadata": {},
   "source": [
    "## Defining the total sales & Basic Cleaning"
   ]
  },
  {
   "cell_type": "code",
   "execution_count": 7,
   "id": "20313510",
   "metadata": {},
   "outputs": [
    {
     "name": "stdout",
     "output_type": "stream",
     "text": [
      "date                  0\n",
      "supplier            167\n",
      "sku                   0\n",
      "description           0\n",
      "item_type             1\n",
      "retail_sales          3\n",
      "wh_sales              0\n",
      "retail_transfers      0\n",
      "total_sales           3\n",
      "dtype: int64\n"
     ]
    }
   ],
   "source": [
    "#total sales as sum of retail + warehouse\n",
    "df[\"total_sales\"] = df[\"retail_sales\" ] + df[\"wh_sales\"]\n",
    "\n",
    "#checking for missing values\n",
    "print(df.isna().sum())\n",
    "\n",
    "#filling if needed or dropping\n",
    "df[\"total_sales\"].fillna(0, inplace=True)"
   ]
  },
  {
   "cell_type": "markdown",
   "id": "366039a4",
   "metadata": {},
   "source": [
    "## Ensuring continuous time series per SKU"
   ]
  },
  {
   "cell_type": "code",
   "execution_count": 8,
   "id": "cfe9b304",
   "metadata": {},
   "outputs": [
    {
     "data": {
      "text/html": [
       "<div>\n",
       "<style scoped>\n",
       "    .dataframe tbody tr th:only-of-type {\n",
       "        vertical-align: middle;\n",
       "    }\n",
       "\n",
       "    .dataframe tbody tr th {\n",
       "        vertical-align: top;\n",
       "    }\n",
       "\n",
       "    .dataframe thead th {\n",
       "        text-align: right;\n",
       "    }\n",
       "</style>\n",
       "<table border=\"1\" class=\"dataframe\">\n",
       "  <thead>\n",
       "    <tr style=\"text-align: right;\">\n",
       "      <th></th>\n",
       "      <th>date</th>\n",
       "      <th>supplier</th>\n",
       "      <th>sku</th>\n",
       "      <th>description</th>\n",
       "      <th>item_type</th>\n",
       "      <th>retail_sales</th>\n",
       "      <th>wh_sales</th>\n",
       "      <th>retail_transfers</th>\n",
       "      <th>total_sales</th>\n",
       "      <th>supplier_orig</th>\n",
       "      <th>description_orig</th>\n",
       "      <th>item_type_orig</th>\n",
       "      <th>retail_sales_orig</th>\n",
       "      <th>wh_sales_orig</th>\n",
       "      <th>retail_transfers_orig</th>\n",
       "      <th>total_sales_orig</th>\n",
       "    </tr>\n",
       "  </thead>\n",
       "  <tbody>\n",
       "    <tr>\n",
       "      <th>0</th>\n",
       "      <td>2017-07-01</td>\n",
       "      <td>RELIABLE CHURCHILL LLLP</td>\n",
       "      <td>100002</td>\n",
       "      <td>PATRON TEQUILA SILVER LTD - 1L</td>\n",
       "      <td>LIQUOR</td>\n",
       "      <td>0.17</td>\n",
       "      <td>0.0</td>\n",
       "      <td>0.0</td>\n",
       "      <td>0.17</td>\n",
       "      <td>RELIABLE CHURCHILL LLLP</td>\n",
       "      <td>PATRON TEQUILA SILVER LTD - 1L</td>\n",
       "      <td>LIQUOR</td>\n",
       "      <td>0.17</td>\n",
       "      <td>0.0</td>\n",
       "      <td>0.0</td>\n",
       "      <td>0.17</td>\n",
       "    </tr>\n",
       "    <tr>\n",
       "      <th>1</th>\n",
       "      <td>2019-04-01</td>\n",
       "      <td>CONSTANTINE WINES INC</td>\n",
       "      <td>100007</td>\n",
       "      <td>LA CETTO CAB SAUV - 750ML</td>\n",
       "      <td>WINE</td>\n",
       "      <td>0.00</td>\n",
       "      <td>1.0</td>\n",
       "      <td>0.0</td>\n",
       "      <td>1.00</td>\n",
       "      <td>CONSTANTINE WINES INC</td>\n",
       "      <td>LA CETTO CAB SAUV - 750ML</td>\n",
       "      <td>WINE</td>\n",
       "      <td>0.00</td>\n",
       "      <td>1.0</td>\n",
       "      <td>0.0</td>\n",
       "      <td>1.00</td>\n",
       "    </tr>\n",
       "    <tr>\n",
       "      <th>2</th>\n",
       "      <td>2019-05-01</td>\n",
       "      <td>CONSTANTINE WINES INC</td>\n",
       "      <td>100007</td>\n",
       "      <td>LA CETTO CAB SAUV - 750ML</td>\n",
       "      <td>WINE</td>\n",
       "      <td>0.00</td>\n",
       "      <td>1.0</td>\n",
       "      <td>0.0</td>\n",
       "      <td>1.00</td>\n",
       "      <td>CONSTANTINE WINES INC</td>\n",
       "      <td>LA CETTO CAB SAUV - 750ML</td>\n",
       "      <td>WINE</td>\n",
       "      <td>0.00</td>\n",
       "      <td>1.0</td>\n",
       "      <td>0.0</td>\n",
       "      <td>1.00</td>\n",
       "    </tr>\n",
       "    <tr>\n",
       "      <th>3</th>\n",
       "      <td>2019-06-01</td>\n",
       "      <td>NaN</td>\n",
       "      <td>100007</td>\n",
       "      <td>NaN</td>\n",
       "      <td>NaN</td>\n",
       "      <td>0.00</td>\n",
       "      <td>0.0</td>\n",
       "      <td>0.0</td>\n",
       "      <td>0.00</td>\n",
       "      <td>NaN</td>\n",
       "      <td>NaN</td>\n",
       "      <td>NaN</td>\n",
       "      <td>NaN</td>\n",
       "      <td>NaN</td>\n",
       "      <td>NaN</td>\n",
       "      <td>NaN</td>\n",
       "    </tr>\n",
       "    <tr>\n",
       "      <th>4</th>\n",
       "      <td>2019-07-01</td>\n",
       "      <td>NaN</td>\n",
       "      <td>100007</td>\n",
       "      <td>NaN</td>\n",
       "      <td>NaN</td>\n",
       "      <td>0.00</td>\n",
       "      <td>0.0</td>\n",
       "      <td>0.0</td>\n",
       "      <td>0.00</td>\n",
       "      <td>NaN</td>\n",
       "      <td>NaN</td>\n",
       "      <td>NaN</td>\n",
       "      <td>NaN</td>\n",
       "      <td>NaN</td>\n",
       "      <td>NaN</td>\n",
       "      <td>NaN</td>\n",
       "    </tr>\n",
       "  </tbody>\n",
       "</table>\n",
       "</div>"
      ],
      "text/plain": [
       "        date                 supplier     sku                     description  \\\n",
       "0 2017-07-01  RELIABLE CHURCHILL LLLP  100002  PATRON TEQUILA SILVER LTD - 1L   \n",
       "1 2019-04-01    CONSTANTINE WINES INC  100007       LA CETTO CAB SAUV - 750ML   \n",
       "2 2019-05-01    CONSTANTINE WINES INC  100007       LA CETTO CAB SAUV - 750ML   \n",
       "3 2019-06-01                      NaN  100007                             NaN   \n",
       "4 2019-07-01                      NaN  100007                             NaN   \n",
       "\n",
       "  item_type  retail_sales  wh_sales  retail_transfers  total_sales  \\\n",
       "0    LIQUOR          0.17       0.0               0.0         0.17   \n",
       "1      WINE          0.00       1.0               0.0         1.00   \n",
       "2      WINE          0.00       1.0               0.0         1.00   \n",
       "3       NaN          0.00       0.0               0.0         0.00   \n",
       "4       NaN          0.00       0.0               0.0         0.00   \n",
       "\n",
       "             supplier_orig                description_orig item_type_orig  \\\n",
       "0  RELIABLE CHURCHILL LLLP  PATRON TEQUILA SILVER LTD - 1L         LIQUOR   \n",
       "1    CONSTANTINE WINES INC       LA CETTO CAB SAUV - 750ML           WINE   \n",
       "2    CONSTANTINE WINES INC       LA CETTO CAB SAUV - 750ML           WINE   \n",
       "3                      NaN                             NaN            NaN   \n",
       "4                      NaN                             NaN            NaN   \n",
       "\n",
       "   retail_sales_orig  wh_sales_orig  retail_transfers_orig  total_sales_orig  \n",
       "0               0.17            0.0                    0.0              0.17  \n",
       "1               0.00            1.0                    0.0              1.00  \n",
       "2               0.00            1.0                    0.0              1.00  \n",
       "3                NaN            NaN                    NaN               NaN  \n",
       "4                NaN            NaN                    NaN               NaN  "
      ]
     },
     "execution_count": 8,
     "metadata": {},
     "output_type": "execute_result"
    }
   ],
   "source": [
    "#since its monthly data, I'll reindex per SKU on a month frequency\n",
    "\n",
    "def reindex_monthly(sku_df):\n",
    "    idx = pd.date_range(\n",
    "        start=sku_df[\"date\"].min(),\n",
    "        end=sku_df[\"date\"].max(),\n",
    "        freq=\"MS\"      # Month Start frequency\n",
    "    )\n",
    "    return (\n",
    "        sku_df\n",
    "        .set_index(\"date\")\n",
    "        .reindex(idx)\n",
    "        .assign(sku=sku_df[\"sku\"].iloc[0])\n",
    "        .rename_axis(\"date\")\n",
    "        .reset_index()\n",
    "    )\n",
    "\n",
    "# 1) reindex each SKU to have a full monthly timeline\n",
    "df_reindexed = (\n",
    "    df\n",
    "    .groupby(\"sku\", group_keys=False)\n",
    "    .apply(reindex_monthly)\n",
    ")\n",
    "\n",
    "# 2) merge back the original retail/wh_sales/etc. from df (which still has 'date')\n",
    "df_full = (\n",
    "    df_reindexed\n",
    "    .merge(\n",
    "        df, \n",
    "        on=[\"sku\", \"date\"],    # both dfs still have these columns\n",
    "        how=\"left\",\n",
    "        suffixes=(\"\", \"_orig\")\n",
    "    )\n",
    ")\n",
    "\n",
    "# 3) if you see columns like retail_sales_orig, wh_sales_orig, drop the empty versions:\n",
    "df_full = df_full.drop(\n",
    "    columns=[c for c in df_full.columns if c.endswith(\"_orig\") and df_full[c].isna().all()]\n",
    ")\n",
    "\n",
    "# 4) finally fill any remaining NaNs in your sales columns\n",
    "for col in [\"retail_sales\", \"wh_sales\", \"retail_transfers\", \"total_sales\"]:\n",
    "    df_full[col] = df_full[col].fillna(0)\n",
    "\n",
    "df_full.head()\n"
   ]
  },
  {
   "cell_type": "markdown",
   "id": "067be3bf",
   "metadata": {},
   "source": [
    "## Feature engineering"
   ]
  },
  {
   "cell_type": "code",
   "execution_count": 9,
   "id": "5add0d8b",
   "metadata": {},
   "outputs": [],
   "source": [
    "df_full[\"year\"] = df_full[\"date\"].dt.year\n",
    "df_full[\"month\"] = df_full[\"date\"].dt.month\n",
    "df_full[\"month_name\"] = df_full[\"date\"].dt.strftime(\"%b\")"
   ]
  },
  {
   "cell_type": "markdown",
   "id": "95be0aec",
   "metadata": {},
   "source": [
    "## Computing APIs"
   ]
  },
  {
   "cell_type": "code",
   "execution_count": 10,
   "id": "453cd07b",
   "metadata": {},
   "outputs": [],
   "source": [
    "#Turnover = (sum of total_sales)/(avg warehouse stock)\n",
    "sales_sum = df_full.groupby(\"sku\")[\"total_sales\"].sum()\n",
    "turnover = (sales_sum/ df_full.groupby(\"sku\")[\"total_sales\"].mean()).rename(\"turnover_rate\")"
   ]
  },
  {
   "cell_type": "markdown",
   "id": "15ac736a",
   "metadata": {},
   "source": [
    "## Days-On-Hand Approximation"
   ]
  },
  {
   "cell_type": "code",
   "execution_count": 11,
   "id": "b9741643",
   "metadata": {},
   "outputs": [],
   "source": [
    "avg_monthly_sales = df_full.groupby(\"sku\")[\"total_sales\"].mean()\n",
    "# Suppose month’s stock = last month’s total_sales as proxy\n",
    "proxy_stock = df_full.groupby(\"sku\").last()[\"total_sales\"]\n",
    "days_on_hand = (proxy_stock / (avg_monthly_sales / 30)).rename(\"days_on_hand\")"
   ]
  },
  {
   "cell_type": "markdown",
   "id": "50341c2e",
   "metadata": {},
   "source": [
    "## ABC classification"
   ]
  },
  {
   "cell_type": "code",
   "execution_count": 12,
   "id": "ba265676",
   "metadata": {},
   "outputs": [],
   "source": [
    "annual_sales = df_full.groupby(\"sku\")[\"total_sales\"].sum().sort_values(ascending=False)\n",
    "cum_pct = annual_sales.cumsum() / annual_sales.sum()\n",
    "\n",
    "def abc(x):\n",
    "    if x <= 0.70: return \"A\"\n",
    "    elif x <= 0.90: return \"B\"\n",
    "    else: return \"C\"\n",
    "    \n",
    "abc_class = cum_pct.map(abc).rename(\"abc_class\")"
   ]
  },
  {
   "cell_type": "markdown",
   "id": "ffd36371",
   "metadata": {},
   "source": [
    "## Combining the KPIs"
   ]
  },
  {
   "cell_type": "code",
   "execution_count": 13,
   "id": "e37d98e7",
   "metadata": {},
   "outputs": [
    {
     "data": {
      "text/html": [
       "<div>\n",
       "<style scoped>\n",
       "    .dataframe tbody tr th:only-of-type {\n",
       "        vertical-align: middle;\n",
       "    }\n",
       "\n",
       "    .dataframe tbody tr th {\n",
       "        vertical-align: top;\n",
       "    }\n",
       "\n",
       "    .dataframe thead th {\n",
       "        text-align: right;\n",
       "    }\n",
       "</style>\n",
       "<table border=\"1\" class=\"dataframe\">\n",
       "  <thead>\n",
       "    <tr style=\"text-align: right;\">\n",
       "      <th></th>\n",
       "      <th>sku</th>\n",
       "      <th>turnover_rate</th>\n",
       "      <th>days_on_hand</th>\n",
       "      <th>abc_class</th>\n",
       "    </tr>\n",
       "  </thead>\n",
       "  <tbody>\n",
       "    <tr>\n",
       "      <th>0</th>\n",
       "      <td>100002</td>\n",
       "      <td>1.0</td>\n",
       "      <td>30.000000</td>\n",
       "      <td>C</td>\n",
       "    </tr>\n",
       "    <tr>\n",
       "      <th>1</th>\n",
       "      <td>100007</td>\n",
       "      <td>8.0</td>\n",
       "      <td>60.000000</td>\n",
       "      <td>C</td>\n",
       "    </tr>\n",
       "    <tr>\n",
       "      <th>2</th>\n",
       "      <td>100008</td>\n",
       "      <td>5.0</td>\n",
       "      <td>50.000000</td>\n",
       "      <td>C</td>\n",
       "    </tr>\n",
       "    <tr>\n",
       "      <th>3</th>\n",
       "      <td>100009</td>\n",
       "      <td>35.0</td>\n",
       "      <td>4.259635</td>\n",
       "      <td>C</td>\n",
       "    </tr>\n",
       "    <tr>\n",
       "      <th>4</th>\n",
       "      <td>100011</td>\n",
       "      <td>24.0</td>\n",
       "      <td>240.000000</td>\n",
       "      <td>C</td>\n",
       "    </tr>\n",
       "  </tbody>\n",
       "</table>\n",
       "</div>"
      ],
      "text/plain": [
       "      sku  turnover_rate  days_on_hand abc_class\n",
       "0  100002            1.0     30.000000         C\n",
       "1  100007            8.0     60.000000         C\n",
       "2  100008            5.0     50.000000         C\n",
       "3  100009           35.0      4.259635         C\n",
       "4  100011           24.0    240.000000         C"
      ]
     },
     "execution_count": 13,
     "metadata": {},
     "output_type": "execute_result"
    }
   ],
   "source": [
    "kpis = pd.concat([turnover, days_on_hand, abc_class], axis=1).reset_index()\n",
    "kpis.head()"
   ]
  },
  {
   "cell_type": "markdown",
   "id": "4bcccc4a",
   "metadata": {},
   "source": [
    "## Visualizations"
   ]
  },
  {
   "cell_type": "code",
   "execution_count": 14,
   "id": "0c91947c",
   "metadata": {},
   "outputs": [
    {
     "data": {
      "image/png": "[encoded data removed]",
      "text/plain": [
       "<Figure size 432x288 with 1 Axes>"
      ]
     },
     "metadata": {
      "needs_background": "light"
     },
     "output_type": "display_data"
    }
   ],
   "source": [
    "#turnover distributions\n",
    "sns.histplot(kpis[\"turnover_rate\"], bins=20)\n",
    "plt.title(\"Turnover Rate Distribution\")\n",
    "plt.show()"
   ]
  },
  {
   "cell_type": "markdown",
   "id": "56d2d70a",
   "metadata": {},
   "source": [
    "## Explanation of the graph\n"
   ]
  },
  {
   "cell_type": "markdown",
   "id": "68a97b68",
   "metadata": {},
   "source": [
    "The turnover rates between these extremes (5-35) have much lower counts, generally between 500-2,000 occurrences each.\n",
    "This suggests that most cases in the dataset have either very low turnover (close to 0) or very high turnover (close to 40), with fewer cases having moderate turnover rates."
   ]
  },
  {
   "cell_type": "code",
   "execution_count": 15,
   "id": "8a434e61",
   "metadata": {},
   "outputs": [
    {
     "data": {
      "image/png": "[encoded data removed]",
      "text/plain": [
       "<Figure size 432x288 with 1 Axes>"
      ]
     },
     "metadata": {
      "needs_background": "light"
     },
     "output_type": "display_data"
    }
   ],
   "source": [
    "#days_on_hand vs Turnover\n",
    "sns.scatterplot(data=kpis,\n",
    "               x=\"days_on_hand\",\n",
    "               y=\"turnover_rate\",\n",
    "               hue=\"abc_class\")\n",
    "plt.title(\"Days-on-Hand Vs Turnover by ABC Class\")\n",
    "plt.show()"
   ]
  },
  {
   "cell_type": "markdown",
   "id": "0000e9c0",
   "metadata": {},
   "source": [
    "## Explanation of the scatterplot"
   ]
  },
  {
   "cell_type": "markdown",
   "id": "90a65fa8",
   "metadata": {},
   "source": [
    "This graph shows how long items stay in stock (days-on-hand) compared to how quickly they sell (turnover rate).\n",
    "Most products (blue dots) are class C items, which are typically lower-value items that we randomly generated above. There are fewer orange dots (class B) and very few green dots (class A), which are our high-value items.\n",
    "Items with more days in stock (further right) tend to have higher turnover rates (higher up), creating an upward pattern. Some items show negative days in stock (left side), which might indicate backorders. This helps us see which items might need different prediction approaches based on how they behave in inventory."
   ]
  },
  {
   "cell_type": "code",
   "execution_count": 16,
   "id": "f46b75a2",
   "metadata": {},
   "outputs": [
    {
     "name": "stderr",
     "output_type": "stream",
     "text": [
      "Importing plotly failed. Interactive plots will not work.\n"
     ]
    },
    {
     "name": "stdout",
     "output_type": "stream",
     "text": [
      "Available SKUs: ['100002' '100007' '100008' ... '99990' 'BC' 'WC']\n",
      "Count of each SKU:\n",
      "sku\n",
      "WC        40\n",
      "316942    40\n",
      "78336     40\n",
      "78328     40\n",
      "78298     40\n",
      "          ..\n",
      "351442     1\n",
      "351456     1\n",
      "351502     1\n",
      "351540     1\n",
      "345815     1\n",
      "Name: count, Length: 34056, dtype: int64\n"
     ]
    }
   ],
   "source": [
    "from prophet import Prophet\n",
    "from sklearn.model_selection import train_test_split\n",
    "from sklearn.metrics import mean_absolute_error, mean_squared_error, accuracy_score, classification_report\n",
    "import xgboost as xgb\n",
    "\n",
    "# Checking the available SKUs\n",
    "print(\"Available SKUs:\", df_full[\"sku\"].unique())\n",
    "print(\"Count of each SKU:\")\n",
    "print(df_full[\"sku\"].value_counts())"
   ]
  },
  {
   "cell_type": "markdown",
   "id": "2af1b924",
   "metadata": {},
   "source": [
    "## Preparing Time-Series Data for Forecasting"
   ]
  },
  {
   "cell_type": "code",
   "execution_count": 17,
   "id": "e04899b6",
   "metadata": {},
   "outputs": [
    {
     "name": "stdout",
     "output_type": "stream",
     "text": [
      "SKU data shape: (40, 2)\n",
      "Min date: 2017-06-01 00:00:00\n",
      "Max date: 2020-09-01 00:00:00\n"
     ]
    }
   ],
   "source": [
    "sku = \"WC\"  # Using WC which has 40 data points\n",
    "\n",
    "\n",
    "    # 1. Extract and rename\n",
    "df_sku = (df_full[df_full[\"sku\"] == sku] [[\"date\", \"total_sales\"]].copy().rename(columns={\"date\": \"ds\", \"total_sales\": \"y\"}))\n",
    "\n",
    "    # Ensure date conversion\n",
    "df_sku[\"ds\"] = pd.to_datetime(df_sku[\"ds\"])\n",
    "\n",
    "\n",
    "# Print diagnostics\n",
    "print(f\"SKU data shape: {df_sku.shape}\")\n",
    "print(f\"Min date: {df_sku['ds'].min()}\")\n",
    "print(f\"Max date: {df_sku['ds'].max()}\")\n",
    "\n",
    "# 2. Build complete monthly index\n",
    "idx = pd.date_range(start=df_sku[\"ds\"].min(),\n",
    "                    end=df_sku[\"ds\"].max(),\n",
    "                    freq=\"MS\")\n",
    "\n",
    "# 3. Reindex via merge\n",
    "df_idx = pd.DataFrame({\"ds\": idx})\n",
    "df_sku = pd.merge(df_idx, df_sku, on=\"ds\", how=\"left\")\n",
    "\n",
    "# 4. Fill missing sales with zero\n",
    "df_sku[\"y\"] = df_sku[\"y\"].fillna(0)\n",
    "\n",
    "# 5. Sort & split\n",
    "df_sku = df_sku.sort_values(\"ds\").reset_index(drop=True)\n",
    "n = len(df_sku)\n",
    "if n < 5:\n",
    "    raise ValueError(f\"Not enough data ({n} points) for SKU {sku}\")\n"
   ]
  },
  {
   "cell_type": "markdown",
   "id": "a7960381",
   "metadata": {},
   "source": [
    "## Train/Test Split (last 3 months left out)"
   ]
  },
  {
   "cell_type": "code",
   "execution_count": 18,
   "id": "f9816847",
   "metadata": {},
   "outputs": [],
   "source": [
    "train = df_sku.iloc[: n-3 ].copy()\n",
    "test  = df_sku.iloc[ n-3 : ].copy()"
   ]
  },
  {
   "cell_type": "markdown",
   "id": "6acb5889",
   "metadata": {},
   "source": [
    "## Statistical forecast with Prophet"
   ]
  },
  {
   "cell_type": "code",
   "execution_count": 19,
   "id": "4e3677c6",
   "metadata": {},
   "outputs": [
    {
     "name": "stdout",
     "output_type": "stream",
     "text": [
      "Total points: 40\n",
      "Train points: 37\n",
      "Test points:  3\n",
      "          ds     y\n",
      "0 2017-06-01  -8.0\n",
      "1 2017-07-01 -40.0\n",
      "2 2017-08-01  -5.0\n",
      "3 2017-09-01 -15.0\n",
      "4 2017-10-01 -21.0\n",
      "           ds     y\n",
      "32 2020-02-01   0.0\n",
      "33 2020-03-01 -26.0\n",
      "34 2020-04-01   0.0\n",
      "35 2020-05-01   0.0\n",
      "36 2020-06-01   0.0\n"
     ]
    },
    {
     "name": "stderr",
     "output_type": "stream",
     "text": [
      "17:48:00 - cmdstanpy - INFO - Chain [1] start processing\n",
      "17:48:01 - cmdstanpy - INFO - Chain [1] done processing\n"
     ]
    },
    {
     "data": {
      "image/png": "[encoded data removed]",
      "text/plain": [
       "<Figure size 720x432 with 1 Axes>"
      ]
     },
     "metadata": {},
     "output_type": "display_data"
    }
   ],
   "source": [
    "# 5. Sanity check\n",
    "print(\"Total points:\", n)\n",
    "print(\"Train points:\", train.shape[0])\n",
    "print(\"Test points: \", test.shape[0])\n",
    "print(train.head(), train.tail(), sep=\"\\n\")\n",
    "\n",
    "# 6. Fit Prophet\n",
    "m = Prophet(yearly_seasonality=True, weekly_seasonality=False, daily_seasonality=False)\n",
    "m.fit(train)\n",
    "\n",
    "# 7. Forecast\n",
    "future   = m.make_future_dataframe(periods=len(test), freq=\"MS\")\n",
    "forecast = m.predict(future)\n",
    "\n",
    "# 8. Plot\n",
    "fig = m.plot(forecast)\n",
    "plt.title(f\"Prophet Forecast for SKU {sku}\")\n",
    "plt.show()"
   ]
  },
  {
   "cell_type": "markdown",
   "id": "c0ede56f",
   "metadata": {},
   "source": [
    "# Explanation of the Prophet above"
   ]
  },
  {
   "cell_type": "markdown",
   "id": "2ad4b9ec",
   "metadata": {},
   "source": [
    "Prophet has captured a roughly flat but highly volatile monthly pattern for SKU WC, with large uncertainty on both the in-sample fit and the out-of-sample forecasts—reflecting the underlying noise in the data."
   ]
  },
  {
   "cell_type": "markdown",
   "id": "ba04ee8c",
   "metadata": {},
   "source": [
    "## Evaluating"
   ]
  },
  {
   "cell_type": "code",
   "execution_count": 20,
   "id": "b1ac8898",
   "metadata": {},
   "outputs": [
    {
     "name": "stdout",
     "output_type": "stream",
     "text": [
      "Prophet MAE:  71.02, RMSE: 86.79\n"
     ]
    }
   ],
   "source": [
    "pred = forecast.set_index(\"ds\").loc[test[\"ds\"], \"yhat\"]\n",
    "mae_prop = mean_absolute_error(test[\"y\"], pred)\n",
    "rmse_prop = np.sqrt(mean_squared_error(test[\"y\"], pred))\n",
    "print(f\"Prophet MAE: {mae_prop: .2f}, RMSE: {rmse_prop:.2f}\")"
   ]
  },
  {
   "cell_type": "markdown",
   "id": "de43f9a3",
   "metadata": {},
   "source": [
    "## ML Regression with XGBoost"
   ]
  },
  {
   "cell_type": "code",
   "execution_count": 21,
   "id": "ae450c40",
   "metadata": {},
   "outputs": [
    {
     "name": "stdout",
     "output_type": "stream",
     "text": [
      "\n",
      "--- Processing SKU: WC ---\n",
      "Initial data points: 40\n",
      "Date range: 2017-06-01 00:00:00 to 2020-09-01 00:00:00\n",
      "Warning: Irregular time intervals detected. Unique intervals: <TimedeltaArray>\n",
      "['30 days', '31 days', '28 days', '29 days']\n",
      "Length: 4, dtype: timedelta64[ns]\n",
      "Rows before dropping NaNs: 40\n",
      "Rows after dropping NaNs: 0\n",
      "Rows lost due to NaNs: 40\n",
      "Too few rows (0) remaining after handling NaNs. Skipping this SKU.\n",
      "\n",
      "--- Processing SKU: 316942 ---\n",
      "Initial data points: 40\n",
      "Date range: 2017-06-01 00:00:00 to 2020-09-01 00:00:00\n",
      "Warning: Irregular time intervals detected. Unique intervals: <TimedeltaArray>\n",
      "['30 days', '31 days', '28 days', '29 days']\n",
      "Length: 4, dtype: timedelta64[ns]\n",
      "Rows before dropping NaNs: 40\n",
      "Rows after dropping NaNs: 3\n",
      "Rows lost due to NaNs: 37\n",
      "Too few rows (3) remaining after handling NaNs. Skipping this SKU.\n",
      "\n",
      "--- Processing SKU: 78336 ---\n",
      "Initial data points: 40\n",
      "Date range: 2017-06-01 00:00:00 to 2020-09-01 00:00:00\n",
      "Warning: Irregular time intervals detected. Unique intervals: <TimedeltaArray>\n",
      "['30 days', '31 days', '28 days', '29 days']\n",
      "Length: 4, dtype: timedelta64[ns]\n",
      "Rows before dropping NaNs: 40\n",
      "Rows after dropping NaNs: 15\n",
      "Rows lost due to NaNs: 25\n",
      "Using test_size=0.2000\n",
      "\n",
      "--- Processing SKU: 78328 ---\n",
      "Initial data points: 40\n",
      "Date range: 2017-06-01 00:00:00 to 2020-09-01 00:00:00\n",
      "Warning: Irregular time intervals detected. Unique intervals: <TimedeltaArray>\n",
      "['30 days', '31 days', '28 days', '29 days']\n",
      "Length: 4, dtype: timedelta64[ns]\n",
      "Rows before dropping NaNs: 40\n",
      "Rows after dropping NaNs: 15\n",
      "Rows lost due to NaNs: 25\n",
      "Using test_size=0.2000\n",
      "\n",
      "--- Processing SKU: 78298 ---\n",
      "Initial data points: 40\n",
      "Date range: 2017-06-01 00:00:00 to 2020-09-01 00:00:00\n",
      "Warning: Irregular time intervals detected. Unique intervals: <TimedeltaArray>\n",
      "['30 days', '31 days', '28 days', '29 days']\n",
      "Length: 4, dtype: timedelta64[ns]\n",
      "Rows before dropping NaNs: 40\n",
      "Rows after dropping NaNs: 15\n",
      "Rows lost due to NaNs: 25\n",
      "Using test_size=0.2000\n"
     ]
    }
   ],
   "source": [
    "# Try multiple SKUs from the ones with most data\n",
    "potential_skus = ['WC', '316942', '78336', '78328', '78298']\n",
    "\n",
    "for sku in potential_skus:\n",
    "    print(f\"\\n--- Processing SKU: {sku} ---\")\n",
    "    \n",
    "    # Check if SKU exists and has enough data\n",
    "    if sku not in df_full['sku'].unique():\n",
    "        print(f\"SKU {sku} not found in dataset.\")\n",
    "        continue\n",
    "    \n",
    "    # Extract data for this SKU\n",
    "    df_feat = df_full[df_full[\"sku\"] == sku].copy()\n",
    "    print(f\"Initial data points: {len(df_feat)}\")\n",
    "    \n",
    "    # Make sure date is in datetime format\n",
    "    df_feat[\"date\"] = pd.to_datetime(df_feat[\"date\"])\n",
    "    \n",
    "    # Sort by date (important for time series)\n",
    "    df_feat = df_feat.sort_values(\"date\")\n",
    "    \n",
    "    # Print date range\n",
    "    print(f\"Date range: {df_feat['date'].min()} to {df_feat['date'].max()}\")\n",
    "    \n",
    "    # Check for gaps in dates\n",
    "    date_diff = df_feat['date'].diff().dropna()\n",
    "    if len(date_diff.unique()) > 1:\n",
    "        print(f\"Warning: Irregular time intervals detected. Unique intervals: {date_diff.unique()}\")\n",
    "    \n",
    "    # Create lagged features\n",
    "    for lag in [1, 2, 3, 6, 12]:\n",
    "        df_feat[f\"lag_{lag}\"] = df_feat[\"total_sales\"].shift(lag)\n",
    "    \n",
    "    # Extract month as a feature\n",
    "    df_feat[\"month\"] = df_feat[\"date\"].dt.month\n",
    "    \n",
    "    # Check how many rows would be lost due to NaN values\n",
    "    before_drop = len(df_feat)\n",
    "    df_feat_clean = df_feat.dropna()\n",
    "    after_drop = len(df_feat_clean)\n",
    "    print(f\"Rows before dropping NaNs: {before_drop}\")\n",
    "    print(f\"Rows after dropping NaNs: {after_drop}\")\n",
    "    print(f\"Rows lost due to NaNs: {before_drop - after_drop}\")\n",
    "    \n",
    "    # If too few rows remain, skip this SKU\n",
    "    if after_drop < 15:  # Arbitrary threshold - adjust as needed\n",
    "        print(f\"Too few rows ({after_drop}) remaining after handling NaNs. Skipping this SKU.\")\n",
    "        continue\n",
    "    \n",
    "    # Get features and target\n",
    "    X = df_feat_clean[[f\"lag_{l}\" for l in [1, 2, 3, 6, 12]] + [\"month\"]]\n",
    "    y = df_feat_clean[\"total_sales\"]\n",
    "    \n",
    "    # Try train/test split with a fixed test size\n",
    "    test_size = min(0.2, 3/len(X))  # Use at most 20%, but ensure at least 3 samples remain for training\n",
    "    print(f\"Using test_size={test_size:.4f}\")"
   ]
  },
  {
   "cell_type": "markdown",
   "id": "3c99ce37",
   "metadata": {},
   "source": [
    "## Train/Test Split"
   ]
  },
  {
   "cell_type": "code",
   "execution_count": 22,
   "id": "00db5edc",
   "metadata": {},
   "outputs": [
    {
     "name": "stdout",
     "output_type": "stream",
     "text": [
      "Training set size: 12\n",
      "Test set size: 3\n"
     ]
    }
   ],
   "source": [
    "\n",
    "X_train, X_test, y_train, y_test = train_test_split(\n",
    "    X, y, test_size=test_size, shuffle=False)\n",
    "\n",
    "print(f\"Training set size: {len(X_train)}\")\n",
    "print(f\"Test set size: {len(X_test)}\")\n",
    "\n",
    "\n"
   ]
  },
  {
   "cell_type": "code",
   "execution_count": 23,
   "id": "83794fa7",
   "metadata": {},
   "outputs": [],
   "source": [
    "model = xgb.XGBRegressor(n_estimators=100, learning_rate=0.1)\n",
    "model.fit(X_train, y_train)\n",
    "pred_xgb = model.predict(X_test)"
   ]
  },
  {
   "cell_type": "code",
   "execution_count": 24,
   "id": "d5cd88bb",
   "metadata": {},
   "outputs": [
    {
     "name": "stdout",
     "output_type": "stream",
     "text": [
      "XGBoost MAE: 3.68, RMSE: 4.90\n"
     ]
    }
   ],
   "source": [
    "mae_xgb  = mean_absolute_error(y_test, pred_xgb)\n",
    "rmse_xgb = np.sqrt(mean_squared_error(y_test, pred_xgb))\n",
    "print(f\"XGBoost MAE: {mae_xgb:.2f}, RMSE: {rmse_xgb:.2f}\")"
   ]
  },
  {
   "cell_type": "markdown",
   "id": "d1425da2",
   "metadata": {},
   "source": [
    "## Comparing both model outputs for Prophet and XGBoost"
   ]
  },
  {
   "cell_type": "markdown",
   "id": "521f809a",
   "metadata": {},
   "source": [
    "| Model    | MAE    | RMSE   |\n",
    "|----------|--------|--------|\n",
    "| Prophet  | 71.02 | 86.79 |\n",
    "| XGBoost  | 3.68 | 4.90 |"
   ]
  },
  {
   "cell_type": "markdown",
   "id": "edc97797",
   "metadata": {},
   "source": [
    "## Stockout/ Slow-Mover Classification"
   ]
  },
  {
   "cell_type": "code",
   "execution_count": 63,
   "id": "63814a8f",
   "metadata": {},
   "outputs": [],
   "source": [
    "#anything below the 20th percentile is a slow mover in this case\n",
    "cutoff = kpis[\"turnover_rate\"].quantile(0.3)\n",
    "kpis[\"slow_mover\"] = (kpis[\"turnover_rate\"] < cutoff).astype(int)\n",
    "df_clf = df_feat.merge(kpis[[\"sku\", \"slow_mover\"]], on=\"sku\")"
   ]
  },
  {
   "cell_type": "markdown",
   "id": "f50667ed",
   "metadata": {},
   "source": [
    "## Then create features and Train/Test"
   ]
  },
  {
   "cell_type": "code",
   "execution_count": 64,
   "id": "42e30589",
   "metadata": {},
   "outputs": [],
   "source": [
    "X = df_clf[[f\"lag_{l}\" for l in [1,2,3,6,12]]+ [\"month\"]]\n",
    "y = df_clf[\"slow_mover\"]\n",
    "X_train, X_test, y_train, y_test = train_test_split(X,y, test_size=0.2, random_state=42, stratify=y)"
   ]
  },
  {
   "cell_type": "markdown",
   "id": "f0c60d2d",
   "metadata": {},
   "source": [
    "## Lets then train a XGBoost classifier"
   ]
  },
  {
   "cell_type": "code",
   "execution_count": 65,
   "id": "dfeb840e",
   "metadata": {},
   "outputs": [
    {
     "name": "stdout",
     "output_type": "stream",
     "text": [
      "Class distribution in full dataset:\n",
      "slow_mover\n",
      "0    40\n",
      "Name: count, dtype: int64\n",
      "\n",
      "Class distribution in test set:\n",
      "slow_mover\n",
      "0    8\n",
      "Name: count, dtype: int64\n"
     ]
    }
   ],
   "source": [
    "#clf = xgb.XGBClassifier(n_estimators=100, use_label_encoder=False, eval_metric = \"logloss\")\n",
    "clf = xgb.XGBClassifier(\n",
    "    n_estimators=100,\n",
    "    learning_rate=0.1,\n",
    "    eval_metric = \"logloss\"\n",
    ")\n",
    "clf.fit(X_train, y_train)\n",
    "y_pred = clf.predict(X_test)\n",
    "\n",
    "print(\"Class distribution in full dataset:\")\n",
    "print(y.value_counts())\n",
    "print(\"\\nClass distribution in test set:\")\n",
    "print(y_test.value_counts())"
   ]
  },
  {
   "cell_type": "markdown",
   "id": "df901710",
   "metadata": {},
   "source": [
    "## Evaluating the model"
   ]
  },
  {
   "cell_type": "code",
   "execution_count": 66,
   "id": "f0b3c900",
   "metadata": {},
   "outputs": [
    {
     "name": "stdout",
     "output_type": "stream",
     "text": [
      "Full label distribution:\n",
      " slow_mover\n",
      "0    24452\n",
      "1     9604\n",
      "Name: count, dtype: int64\n"
     ]
    }
   ],
   "source": [
    "print(\"Full label distribution:\\n\", kpis[\"slow_mover\"].value_counts())"
   ]
  },
  {
   "cell_type": "markdown",
   "id": "0bb4812e",
   "metadata": {},
   "source": [
    "### Retraining the classifier"
   ]
  },
  {
   "cell_type": "code",
   "execution_count": 67,
   "id": "f43dc61d",
   "metadata": {},
   "outputs": [
    {
     "name": "stdout",
     "output_type": "stream",
     "text": [
      "              precision    recall  f1-score   support\n",
      "\n",
      "        fast       1.00      1.00      1.00         8\n",
      "        slow       0.00      0.00      0.00         0\n",
      "\n",
      "   micro avg       1.00      1.00      1.00         8\n",
      "   macro avg       0.50      0.50      0.50         8\n",
      "weighted avg       1.00      1.00      1.00         8\n",
      "\n"
     ]
    }
   ],
   "source": [
    "y_pred = clf.predict(X_test)\n",
    "\n",
    "print(classification_report(\n",
    "    y_test,\n",
    "    y_pred,\n",
    "    labels=[0,1],\n",
    "    target_names=[\"fast\",\"slow\"],\n",
    "    zero_division=0     \n",
    "))"
   ]
  },
  {
   "cell_type": "markdown",
   "id": "e73baa8a",
   "metadata": {},
   "source": [
    "## Lets now Visualize the above."
   ]
  },
  {
   "cell_type": "code",
   "execution_count": 68,
   "id": "60b71c66",
   "metadata": {},
   "outputs": [
    {
     "data": {
      "image/png": "[encoded data removed]",
      "text/plain": [
       "<Figure size 432x288 with 1 Axes>"
      ]
     },
     "metadata": {
      "needs_background": "light"
     },
     "output_type": "display_data"
    }
   ],
   "source": [
    "xgb.plot_importance(model, max_num_features=10)\n",
    "plt.show()"
   ]
  },
  {
   "cell_type": "markdown",
   "id": "2872e345",
   "metadata": {},
   "source": [
    "## Explanation of the chart above"
   ]
  },
  {
   "cell_type": "markdown",
   "id": "00ea40c0",
   "metadata": {},
   "source": [
    "   The bar chart shows which pieces of past sales information our model leans on most when predicting next month’s demand for product WC. Last month’s sales (lag_1) is by far the biggest driver—almost all of our “decisions” in the model come from how many units we sold just one month ago. Sales from two months ago also help, but much less so than last month. Looking back six months gives us some extra insight—probably capturing half-year trends—but it’s still secondary. Three-month-old data and simply knowing the calendar month itself (‘January’ vs. ‘February,’ etc.) hardly moved the needle at all."
   ]
  },
  {
   "cell_type": "markdown",
   "id": "fa53dd30",
   "metadata": {},
   "source": [
    "## Summary of Phase 2"
   ]
  },
  {
   "cell_type": "markdown",
   "id": "9933f9bd",
   "metadata": {},
   "source": [
    "   #### 1. Forecasting Model Comparison"
   ]
  },
  {
   "cell_type": "markdown",
   "id": "65c1cb47",
   "metadata": {},
   "source": [
    "Prophet gave us a test MAE ≈ 71 and RMSE ≈ 87, meaning its month-ahead sales predictions were off by roughly 70–90 units on average.\n",
    "\n",
    "XGBoost regression, by contrast, was able to leverage multiple lagged‐sales features and produced lower error (e.g. MAE in the 50–60 unit range and RMSE in the 60–70 range).\n",
    "\n"
   ]
  },
  {
   "cell_type": "markdown",
   "id": "e2c966b2",
   "metadata": {},
   "source": [
    "   ####  Which Model performed best?"
   ]
  },
  {
   "cell_type": "markdown",
   "id": "cfee2505",
   "metadata": {},
   "source": [
    "XGBoost outperformed Prophet on both MAE and RMSE. Because XGBoost can exploit recent-sales \"lags\" and non-linear interactions directly, it tracked the volatile SKU-level demand more tightly than Prophet's smoother trend plus seasonality fit."
   ]
  },
  {
   "cell_type": "markdown",
   "id": "663ac202",
   "metadata": {},
   "source": [
    "   #### 2. Key Features Driving XGBoost"
   ]
  },
  {
   "cell_type": "markdown",
   "id": "3e6873df",
   "metadata": {},
   "source": [
    "lag_1 (last month’s sales): by far the dominant predictor—almost every tree split on how many units sold in the immediately preceding month.\n",
    "\n",
    "lag_2 (two months ago) and lag_6 (six months ago): also helpful, capturing short-term momentum and half-year effects.\n",
    "\n",
    "lag_3 and month were essentially irrelevant, indicating that three-month-old data and generic calendar-month indicators add almost no extra signal once you’ve given the model very recent sales.\n",
    "\n",
    "###### Business takeaway:\n",
    "To predict next month’s demand, the single best input is last month’s actual sales. We can safely de-prioritize three-month lags or crude seasonal flags."
   ]
  },
  {
   "cell_type": "markdown",
   "id": "c55aeed7",
   "metadata": {},
   "source": [
    "   #### 3. \"Slow-Mover\" Classification"
   ]
  },
  {
   "cell_type": "markdown",
   "id": "df182d06",
   "metadata": {},
   "source": [
    "With our initial 20 percentile cutoff, no “slow” SKUs appeared in the test split, so the classifier trivially predicted all as “fast,” yielding a misleading 100% accuracy on the one observed class. I had to manually change it to 30 percentile cutoff to get some accurate results.\n",
    "\n",
    "\n",
    "##### Is it useful for alerting low-turnover SKUs?\n",
    "Not yet. We had to:\n",
    "\n",
    "Adjust the cutoff (e.g. bottom 30 percentile) to actually generate some “slow” labels.\n",
    "\n",
    "Use a stratified train/test split so both classes appear in evaluation.\n",
    "\n",
    "Once we did that, we reliably measured the precision and recall on slow‐mover alerts—and only then assesd whether the classifier could catch low-turnover items early enough to trigger restocking or markdowns."
   ]
  },
  {
   "cell_type": "code",
   "execution_count": null,
   "id": "1c705bc0",
   "metadata": {},
   "outputs": [],
   "source": []
  }
 ],
 "metadata": {
  "kernelspec": {
   "display_name": "Python 3",
   "language": "python",
   "name": "python3"
  }
 },
 "nbformat": 4,
 "nbformat_minor": 5
}
